{
 "cells": [
  {
   "cell_type": "code",
   "execution_count": 1,
   "metadata": {
    "collapsed": true
   },
   "outputs": [],
   "source": [
    "import numpy as np"
   ]
  },
  {
   "cell_type": "code",
   "execution_count": 2,
   "outputs": [
    {
     "name": "stdout",
     "output_type": "stream",
     "text": [
      "96\n",
      "[94 77 90]\n",
      "[[ 87  96  70]\n",
      " [100  87  90]]\n",
      "[[87 96 70]\n",
      " [94 77 90]]\n",
      "[96 87 77 81]\n",
      "[[96 70]\n",
      " [87 90]\n",
      " [77 90]\n",
      " [81 82]]\n",
      "[[ 87  70]\n",
      " [100  90]\n",
      " [ 94  90]\n",
      " [100  82]]\n",
      "[95.25 85.25 83.  ]\n",
      "[84.33333333 92.33333333 87.         87.66666667]\n"
     ]
    }
   ],
   "source": [
    "grades = np.array([[87, 96, 70], [100, 87, 90], [94, 77, 90], [100, 81, 82]])\n",
    "print(grades[0,1])\n",
    "print(grades[2])\n",
    "print(grades[0:2])\n",
    "print(grades[[0, 2]])\n",
    "print(grades[:, 1])\n",
    "print(grades[:, 1:3])\n",
    "print(grades[:, [0, 2]])\n",
    "print(grades.mean(axis=0))\n",
    "print(grades.mean(axis=1))"
   ],
   "metadata": {
    "collapsed": false
   }
  },
  {
   "cell_type": "code",
   "execution_count": 3,
   "outputs": [
    {
     "name": "stdout",
     "output_type": "stream",
     "text": [
      "[10.          7.         18.         27.          9.53939201]\n",
      "[30.         21.         54.         81.         28.61817604]\n",
      "[30.         21.         54.         81.         28.61817604]\n"
     ]
    }
   ],
   "source": [
    "numbers = np.array([100, 49, 324, 729, 91])\n",
    "sqaureRoot = np.sqrt(numbers)\n",
    "print(sqaureRoot)\n",
    "print(sqaureRoot * 3)\n",
    "print(np.multiply(sqaureRoot, 3))"
   ],
   "metadata": {
    "collapsed": false
   }
  },
  {
   "cell_type": "code",
   "execution_count": 8,
   "outputs": [
    {
     "name": "stdout",
     "output_type": "stream",
     "text": [
      "[1 2 3 4 5 6 7 8 9]\n",
      "[1 2 3 4 5 6 7 8 9]\n",
      "[ 5 10 15 20 25 30 35 40 45]\n",
      "[ 5 10 15 20 25 30 35 40 45]\n",
      "[10 20 30 40 50 60 70 80 90]\n",
      "[10 20 30 40 50 60 70 80 90]\n",
      "[10  0 30 40 50 60 70 80 90]\n",
      "[10  0 30 40 50]\n",
      "[10  0 30 40 50 60 70 80 90]\n",
      "[10  0  0 40 50 60 70 80 90]\n",
      "[10  0  0 40 50]\n",
      "[10  0  0 40 50 60 70 80 90]\n"
     ]
    }
   ],
   "source": [
    "x = np.arange(1, 10)\n",
    "y = x.view()\n",
    "print(x)\n",
    "print(y)\n",
    "x *= 5\n",
    "print(x)\n",
    "print(y)\n",
    "y *= 2\n",
    "print(x)\n",
    "print(y)\n",
    "z = x[0:5]\n",
    "x[1] = 0\n",
    "print(x)\n",
    "print(z)\n",
    "print(y)\n",
    "z[2] = 0\n",
    "print(x)\n",
    "print(z)\n",
    "print(y)"
   ],
   "metadata": {
    "collapsed": false
   }
  },
  {
   "cell_type": "code",
   "execution_count": 10,
   "outputs": [
    {
     "name": "stdout",
     "output_type": "stream",
     "text": [
      "[0 1 2]\n",
      "[0 1 2]\n",
      "[ 0 10 20]\n",
      "[0 1 2]\n"
     ]
    }
   ],
   "source": [
    "p = np.arange(0,3)\n",
    "q = p.copy()\n",
    "print(p)\n",
    "print(q)\n",
    "p *= 10\n",
    "print(p)\n",
    "print(q)"
   ],
   "metadata": {
    "collapsed": false
   }
  },
  {
   "cell_type": "code",
   "execution_count": 12,
   "outputs": [
    {
     "name": "stdout",
     "output_type": "stream",
     "text": [
      "[[100  92  71]\n",
      " [ 82  90  62]\n",
      " [ 50  89  77]]\n",
      "[[100  92  71  82  90  62  50  89  77]]\n",
      "[[100  92  71]\n",
      " [ 82  90  62]\n",
      " [ 50  89  77]]\n",
      "None\n",
      "[[100  92  71  82  90  62  50  89  77]]\n"
     ]
    }
   ],
   "source": [
    "examScores = np.array([[100, 92, 71], [82, 90, 62], [50, 89, 77]])\n",
    "print(examScores)\n",
    "print(examScores.reshape(1,9)) # shallow copy, does not change examScores, ravel\n",
    "print(examScores)\n",
    "print(examScores.resize(1,9)) # modifies examScores' shape, flatten\n",
    "print(examScores)"
   ],
   "metadata": {
    "collapsed": false
   }
  },
  {
   "cell_type": "code",
   "execution_count": 13,
   "outputs": [
    {
     "name": "stdout",
     "output_type": "stream",
     "text": [
      "[[100  92  71]\n",
      " [ 82  90  62]\n",
      " [ 50  89  77]]\n",
      "[[100  82  50]\n",
      " [ 92  90  89]\n",
      " [ 71  62  77]]\n",
      "[[100  92  71]\n",
      " [ 82  90  62]\n",
      " [ 50  89  77]]\n",
      "[[100  92  71]\n",
      " [ 82  90  62]\n",
      " [ 50  89  77]\n",
      " [ 90  92  71]\n",
      " [ 50  92  77]]\n",
      "[[100  92  71  90  92  71]\n",
      " [ 82  90  62  50  92  77]\n",
      " [ 50  89  77  32  70  53]]\n"
     ]
    }
   ],
   "source": [
    "examScores = np.array([[100, 92, 71], [82, 90, 62], [50, 89, 77]])\n",
    "print(examScores)\n",
    "print(examScores.T)\n",
    "print(examScores)\n",
    "examScores1 = np.array([[90, 92, 71], [50, 92, 77]])\n",
    "print(np.vstack((examScores, examScores1)))\n",
    "#print(np.hstack((examScores, examScores1)))\n",
    "examScores1 = np.array([[90, 92, 71], [50, 92, 77], [32, 70, 53]])\n",
    "print(np.hstack((examScores, examScores1)))"
   ],
   "metadata": {
    "collapsed": false
   }
  },
  {
   "cell_type": "code",
   "execution_count": null,
   "outputs": [],
   "source": [],
   "metadata": {
    "collapsed": false
   }
  }
 ],
 "metadata": {
  "kernelspec": {
   "display_name": "Python 3",
   "language": "python",
   "name": "python3"
  },
  "language_info": {
   "codemirror_mode": {
    "name": "ipython",
    "version": 2
   },
   "file_extension": ".py",
   "mimetype": "text/x-python",
   "name": "python",
   "nbconvert_exporter": "python",
   "pygments_lexer": "ipython2",
   "version": "2.7.6"
  }
 },
 "nbformat": 4,
 "nbformat_minor": 0
}
