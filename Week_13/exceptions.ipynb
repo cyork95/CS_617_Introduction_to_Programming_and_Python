{
 "cells": [
  {
   "cell_type": "code",
   "execution_count": 3,
   "metadata": {
    "collapsed": true
   },
   "outputs": [
    {
     "name": "stdout",
     "output_type": "stream",
     "text": [
      "You must enter an integer\n",
      "Thank you\n"
     ]
    }
   ],
   "source": [
    "try:\n",
    "    number1 = int(input('Enter a number'))\n",
    "except ValueError:\n",
    "    print('You must enter an integer')\n",
    "else:\n",
    "    print(\"Good job\")\n",
    "finally:\n",
    "    print(\"Thank you\")"
   ]
  },
  {
   "cell_type": "code",
   "execution_count": 4,
   "outputs": [
    {
     "name": "stdout",
     "output_type": "stream",
     "text": [
      "File not found\n"
     ]
    }
   ],
   "source": [
    "try:\n",
    "    with open(\"Cities.txt\", 'r') as cities:\n",
    "        for city in cities:\n",
    "            print(city)\n",
    "except FileNotFoundError:\n",
    "    print('File not found')"
   ],
   "metadata": {
    "collapsed": false
   }
  },
  {
   "cell_type": "code",
   "execution_count": null,
   "outputs": [],
   "source": [],
   "metadata": {
    "collapsed": false
   }
  }
 ],
 "metadata": {
  "kernelspec": {
   "display_name": "Python 3",
   "language": "python",
   "name": "python3"
  },
  "language_info": {
   "codemirror_mode": {
    "name": "ipython",
    "version": 2
   },
   "file_extension": ".py",
   "mimetype": "text/x-python",
   "name": "python",
   "nbconvert_exporter": "python",
   "pygments_lexer": "ipython2",
   "version": "2.7.6"
  }
 },
 "nbformat": 4,
 "nbformat_minor": 0
}
