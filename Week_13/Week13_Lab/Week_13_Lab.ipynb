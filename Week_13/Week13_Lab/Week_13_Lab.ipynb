{
 "cells": [
  {
   "cell_type": "code",
   "execution_count": 1,
   "metadata": {
    "collapsed": true
   },
   "outputs": [
    {
     "data": {
      "text/plain": "\"\\nCreate a dictionary that stores key:value pairs that represent the following roman numerals:\\n\\nI is 1\\nV is 5\\nX is 10\\nL is 50\\nC is 100\\nPrompt the user to enter a roman numeral, and store it as a string variable. Use a for loop to loop through each letter in the roman numeral string. \\n\\nYou can use for each_letter in roman_number:  to extract one letter at a time from the string roman_number and store it into each_letter.\\n\\nInside the for loop, use the .get() function to use each_letter as a key for the dictionary, storing the number retrieved from the dictionary into a variable.\\nPrint out the value of this part of the roman numeral.\\nAdd this value to the total.\\nPrint the total.\\n\\nNote:  We'll only handle the case where the roman numerals are in decreasing order, like XI = 11, where the numbers are just added together.  We won't worry about the case, like IX = 9, where the value is calculated in a more complex way.\\n\\nSample run of the program:\\n\\nEnter a roman numeral:  XVI (input from user)\\nThe value of X is 10.\\nThe value of V is 5.\\nThe value of I is 1.\\nThe equivalent decimal value is 16\\n\""
     },
     "execution_count": 1,
     "metadata": {},
     "output_type": "execute_result"
    }
   ],
   "source": [
    "\"\"\"\n",
    "Create a dictionary that stores key:value pairs that represent the following roman numerals:\n",
    "\n",
    "I is 1\n",
    "V is 5\n",
    "X is 10\n",
    "L is 50\n",
    "C is 100\n",
    "Prompt the user to enter a roman numeral, and store it as a string variable. Use a for loop to loop through each letter in the roman numeral string.\n",
    "\n",
    "You can use for each_letter in roman_number:  to extract one letter at a time from the string roman_number and store it into each_letter.\n",
    "\n",
    "Inside the for loop, use the .get() function to use each_letter as a key for the dictionary, storing the number retrieved from the dictionary into a variable.\n",
    "Print out the value of this part of the roman numeral.\n",
    "Add this value to the total.\n",
    "Print the total.\n",
    "\n",
    "Note:  We'll only handle the case where the roman numerals are in decreasing order, like XI = 11, where the numbers are just added together.  We won't worry about the case, like IX = 9, where the value is calculated in a more complex way.\n",
    "\n",
    "Sample run of the program:\n",
    "\n",
    "Enter a roman numeral:  XVI (input from user)\n",
    "The value of X is 10.\n",
    "The value of V is 5.\n",
    "The value of I is 1.\n",
    "The equivalent decimal value is 16\n",
    "\"\"\""
   ]
  },
  {
   "cell_type": "code",
   "execution_count": 2,
   "outputs": [],
   "source": [
    "roman_numeral_dict = {\"I\":1, \"V\":5, \"X\":10, \"L\":50, \"C\":100}"
   ],
   "metadata": {
    "collapsed": false
   }
  },
  {
   "cell_type": "code",
   "execution_count": 14,
   "outputs": [],
   "source": [
    "roman_numeral_string = input(\"Please enter a string of Roman Numerals: \")"
   ],
   "metadata": {
    "collapsed": false
   }
  },
  {
   "cell_type": "code",
   "execution_count": 15,
   "outputs": [
    {
     "name": "stdout",
     "output_type": "stream",
     "text": [
      "The value of X is 10.\n",
      "The value of V is 5.\n",
      "The value of I is 1.\n",
      "The equivalent decimal value is 16.\n"
     ]
    }
   ],
   "source": [
    "decimal_value = 0\n",
    "try:\n",
    "    for each_letter in roman_numeral_string:\n",
    "        decimal_value += roman_numeral_dict.get(each_letter)\n",
    "        print(f\"The value of {each_letter} is {roman_numeral_dict.get(each_letter)}.\")\n",
    "    print(f\"The equivalent decimal value is {decimal_value}.\")\n",
    "except TypeError:\n",
    "    print(\"Sorry there was an issue with your Roman Numeral String I don't think they are all Roman Numerals. Try again!\")"
   ],
   "metadata": {
    "collapsed": false
   }
  },
  {
   "cell_type": "code",
   "execution_count": null,
   "outputs": [],
   "source": [],
   "metadata": {
    "collapsed": false
   }
  }
 ],
 "metadata": {
  "kernelspec": {
   "display_name": "Python 3",
   "language": "python",
   "name": "python3"
  },
  "language_info": {
   "codemirror_mode": {
    "name": "ipython",
    "version": 2
   },
   "file_extension": ".py",
   "mimetype": "text/x-python",
   "name": "python",
   "nbconvert_exporter": "python",
   "pygments_lexer": "ipython2",
   "version": "2.7.6"
  }
 },
 "nbformat": 4,
 "nbformat_minor": 0
}
