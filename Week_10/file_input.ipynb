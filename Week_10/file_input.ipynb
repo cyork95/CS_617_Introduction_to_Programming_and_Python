{
 "cells": [
  {
   "cell_type": "code",
   "execution_count": 3,
   "outputs": [
    {
     "name": "stdout",
     "output_type": "stream",
     "text": [
      "Alice Smith's average score is 80.0\n",
      "Bob Jones's average score is 84.5\n",
      "Carol Pollard's average score is 94.0\n"
     ]
    }
   ],
   "source": [
    "grades = open(\"grades.txt\", mode='r')\n",
    "students = grades.readlines()\n",
    "for s in students:\n",
    "    parts = s.split()\n",
    "    average = (float(parts[2]) + float(parts[3])) / 2.0\n",
    "    print(parts[0], parts[1] + \"'s\", \"average score is\", average)"
   ],
   "metadata": {
    "collapsed": false
   }
  },
  {
   "cell_type": "code",
   "execution_count": null,
   "metadata": {
    "collapsed": true
   },
   "outputs": [],
   "source": []
  }
 ],
 "metadata": {
  "kernelspec": {
   "display_name": "Python 3",
   "language": "python",
   "name": "python3"
  },
  "language_info": {
   "codemirror_mode": {
    "name": "ipython",
    "version": 2
   },
   "file_extension": ".py",
   "mimetype": "text/x-python",
   "name": "python",
   "nbconvert_exporter": "python",
   "pygments_lexer": "ipython2",
   "version": "2.7.6"
  }
 },
 "nbformat": 4,
 "nbformat_minor": 0
}
