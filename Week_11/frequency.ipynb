{
 "cells": [
  {
   "cell_type": "code",
   "execution_count": 3,
   "metadata": {
    "collapsed": true
   },
   "outputs": [],
   "source": [
    "import random"
   ]
  },
  {
   "cell_type": "code",
   "execution_count": 4,
   "outputs": [
    {
     "name": "stdout",
     "output_type": "stream",
     "text": [
      "[7, 3, 4, 5, 7, 6, 0, 5, 4, 7, 0, 2, 5, 5, 1, 4, 9, 6, 5, 2, 5, 8, 9, 0, 0, 7, 3, 6, 9, 5, 6, 8, 5, 2, 9, 1, 2, 4, 8, 4, 5, 8, 3, 0, 3, 3, 0, 1, 2, 4, 8, 7, 4, 9, 4, 0, 9, 2, 1, 6, 6, 7, 5, 1, 1, 2, 7, 1, 4, 9, 6, 8, 6, 4, 8, 5, 1, 5, 0, 0, 1, 6, 0, 8, 1, 4, 7, 5, 9, 5, 7, 2, 5, 2, 7, 4, 1, 9, 2, 1]\n"
     ]
    }
   ],
   "source": [
    "numbers = [random.randrange(0,10) for i in range(100)]\n",
    "print(numbers)"
   ],
   "metadata": {
    "collapsed": false
   }
  },
  {
   "cell_type": "code",
   "execution_count": 5,
   "outputs": [
    {
     "name": "stdout",
     "output_type": "stream",
     "text": [
      "0    10\n",
      "1    12\n",
      "2    10\n",
      "3    5\n",
      "4    12\n",
      "5    15\n",
      "6    9\n",
      "7    10\n",
      "8    8\n",
      "9    9\n"
     ]
    }
   ],
   "source": [
    "frequency = {}\n",
    "for n in numbers:\n",
    "    if n in frequency:\n",
    "        frequency[n] += 1\n",
    "    else:\n",
    "        frequency[n] = 1\n",
    "for n, count in sorted(frequency.items()):\n",
    "    print(f'{n:<5}{count}')"
   ],
   "metadata": {
    "collapsed": false
   }
  },
  {
   "cell_type": "code",
   "execution_count": null,
   "outputs": [],
   "source": [],
   "metadata": {
    "collapsed": false
   }
  }
 ],
 "metadata": {
  "kernelspec": {
   "display_name": "Python 3",
   "language": "python",
   "name": "python3"
  },
  "language_info": {
   "codemirror_mode": {
    "name": "ipython",
    "version": 2
   },
   "file_extension": ".py",
   "mimetype": "text/x-python",
   "name": "python",
   "nbconvert_exporter": "python",
   "pygments_lexer": "ipython2",
   "version": "2.7.6"
  }
 },
 "nbformat": 4,
 "nbformat_minor": 0
}
