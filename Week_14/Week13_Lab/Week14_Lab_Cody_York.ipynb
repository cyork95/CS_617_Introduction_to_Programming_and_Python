{
 "cells": [
  {
   "cell_type": "code",
   "execution_count": 6,
   "metadata": {
    "collapsed": true
   },
   "outputs": [],
   "source": [
    "import numpy as np\n",
    "import pandas as pd"
   ]
  },
  {
   "cell_type": "code",
   "execution_count": 2,
   "outputs": [
    {
     "name": "stdout",
     "output_type": "stream",
     "text": [
      "[[1. 1. 1. 1.]\n",
      " [1. 1. 1. 1.]\n",
      " [1. 1. 1. 1.]\n",
      " [1. 1. 1. 1.]\n",
      " [1. 1. 1. 1.]\n",
      " [1. 1. 1. 1.]\n",
      " [1. 1. 1. 1.]\n",
      " [1. 1. 1. 1.]\n",
      " [1. 1. 1. 1.]\n",
      " [1. 1. 1. 1.]]\n"
     ]
    }
   ],
   "source": [
    "curve = np.ones(shape=(10,4), dtype=float)\n",
    "print(curve)"
   ],
   "metadata": {
    "collapsed": false
   }
  },
  {
   "cell_type": "code",
   "execution_count": 3,
   "outputs": [
    {
     "name": "stdout",
     "output_type": "stream",
     "text": [
      "[[ 81  88  89  74]\n",
      " [ 70  88  84  90]\n",
      " [ 78  75  88  76]\n",
      " [ 70  70  97  88]\n",
      " [ 92  90  81  81]\n",
      " [ 93  84  88  89]\n",
      " [ 84  82  85  70]\n",
      " [ 85  91  85 100]\n",
      " [ 71  76  71  75]\n",
      " [100  90  86  83]]\n"
     ]
    }
   ],
   "source": [
    "random_grades = np.random.randint(low=70, high=101, size=40)\n",
    "exam_grades = random_grades.reshape((10, 4))\n",
    "print(exam_grades)"
   ],
   "metadata": {
    "collapsed": false
   }
  },
  {
   "cell_type": "code",
   "execution_count": 4,
   "outputs": [
    {
     "name": "stdout",
     "output_type": "stream",
     "text": [
      "[[ 82.  89.  90.  75.]\n",
      " [ 71.  89.  85.  91.]\n",
      " [ 79.  76.  89.  77.]\n",
      " [ 71.  71.  98.  89.]\n",
      " [ 93.  91.  82.  82.]\n",
      " [ 94.  85.  89.  90.]\n",
      " [ 85.  83.  86.  71.]\n",
      " [ 86.  92.  86. 101.]\n",
      " [ 72.  77.  72.  76.]\n",
      " [101.  91.  87.  84.]]\n"
     ]
    }
   ],
   "source": [
    "curved_grades = curve + exam_grades\n",
    "print(curved_grades)"
   ],
   "metadata": {
    "collapsed": false
   }
  },
  {
   "cell_type": "code",
   "execution_count": 5,
   "outputs": [
    {
     "name": "stdout",
     "output_type": "stream",
     "text": [
      "[ 82.  71.  79.  71.  93.  94.  85.  86.  72. 101.]\n"
     ]
    }
   ],
   "source": [
    "print(curved_grades[:, 0])"
   ],
   "metadata": {
    "collapsed": false
   }
  },
  {
   "cell_type": "code",
   "execution_count": 7,
   "outputs": [
    {
     "name": "stdout",
     "output_type": "stream",
     "text": [
      "       0     1     2      3\n",
      "0   82.0  89.0  90.0   75.0\n",
      "1   71.0  89.0  85.0   91.0\n",
      "2   79.0  76.0  89.0   77.0\n",
      "3   71.0  71.0  98.0   89.0\n",
      "4   93.0  91.0  82.0   82.0\n",
      "5   94.0  85.0  89.0   90.0\n",
      "6   85.0  83.0  86.0   71.0\n",
      "7   86.0  92.0  86.0  101.0\n",
      "8   72.0  77.0  72.0   76.0\n",
      "9  101.0  91.0  87.0   84.0\n"
     ]
    }
   ],
   "source": [
    "df = pd.DataFrame(curved_grades)\n",
    "print(df)"
   ],
   "metadata": {
    "collapsed": false
   }
  },
  {
   "cell_type": "code",
   "execution_count": 8,
   "outputs": [
    {
     "name": "stdout",
     "output_type": "stream",
     "text": [
      "   Exam1  Exam2  Exam3  Exam4\n",
      "0   82.0   89.0   90.0   75.0\n",
      "1   71.0   89.0   85.0   91.0\n",
      "2   79.0   76.0   89.0   77.0\n",
      "3   71.0   71.0   98.0   89.0\n",
      "4   93.0   91.0   82.0   82.0\n",
      "5   94.0   85.0   89.0   90.0\n",
      "6   85.0   83.0   86.0   71.0\n",
      "7   86.0   92.0   86.0  101.0\n",
      "8   72.0   77.0   72.0   76.0\n",
      "9  101.0   91.0   87.0   84.0\n"
     ]
    }
   ],
   "source": [
    "df.rename(columns = {0:'Exam1', 1:'Exam2', 2:'Exam3', 3:'Exam4'}, inplace=True)\n",
    "print(df)"
   ],
   "metadata": {
    "collapsed": false
   }
  },
  {
   "cell_type": "code",
   "execution_count": 10,
   "outputs": [
    {
     "name": "stdout",
     "output_type": "stream",
     "text": [
      "         Exam1  Exam2  Exam3  Exam4\n",
      "Andy      82.0   89.0   90.0   75.0\n",
      "Barbara   71.0   89.0   85.0   91.0\n",
      "David     79.0   76.0   89.0   77.0\n",
      "Emily     71.0   71.0   98.0   89.0\n",
      "Frank     93.0   91.0   82.0   82.0\n",
      "Grace     94.0   85.0   89.0   90.0\n",
      "Heidi     85.0   83.0   86.0   71.0\n",
      "Ivan      86.0   92.0   86.0  101.0\n",
      "Janet     72.0   77.0   72.0   76.0\n",
      "Charlie  101.0   91.0   87.0   84.0\n"
     ]
    }
   ],
   "source": [
    "df.rename({0:'Andy', 1:'Barbara',  2:'David', 3:'Emily', 4:'Frank', 5:'Grace', 6:'Heidi', 7:'Ivan', 8:'Janet', 9:'Charlie'}, inplace=True)\n",
    "print(df)"
   ],
   "metadata": {
    "collapsed": false
   }
  },
  {
   "cell_type": "code",
   "execution_count": 11,
   "outputs": [
    {
     "name": "stdout",
     "output_type": "stream",
     "text": [
      "Andy        75.0\n",
      "Barbara     91.0\n",
      "David       77.0\n",
      "Emily       89.0\n",
      "Frank       82.0\n",
      "Grace       90.0\n",
      "Heidi       71.0\n",
      "Ivan       101.0\n",
      "Janet       76.0\n",
      "Charlie     84.0\n",
      "Name: Exam4, dtype: float64\n"
     ]
    }
   ],
   "source": [
    "print(df.Exam4)"
   ],
   "metadata": {
    "collapsed": false
   }
  },
  {
   "cell_type": "code",
   "execution_count": 12,
   "outputs": [
    {
     "name": "stdout",
     "output_type": "stream",
     "text": [
      "Exam1     86.0\n",
      "Exam2     92.0\n",
      "Exam3     86.0\n",
      "Exam4    101.0\n",
      "Name: Ivan, dtype: float64\n"
     ]
    }
   ],
   "source": [
    "print(df.loc['Ivan'])"
   ],
   "metadata": {
    "collapsed": false
   }
  },
  {
   "cell_type": "code",
   "execution_count": null,
   "outputs": [],
   "source": [],
   "metadata": {
    "collapsed": false
   }
  }
 ],
 "metadata": {
  "kernelspec": {
   "display_name": "Python 3",
   "language": "python",
   "name": "python3"
  },
  "language_info": {
   "codemirror_mode": {
    "name": "ipython",
    "version": 2
   },
   "file_extension": ".py",
   "mimetype": "text/x-python",
   "name": "python",
   "nbconvert_exporter": "python",
   "pygments_lexer": "ipython2",
   "version": "2.7.6"
  }
 },
 "nbformat": 4,
 "nbformat_minor": 0
}
