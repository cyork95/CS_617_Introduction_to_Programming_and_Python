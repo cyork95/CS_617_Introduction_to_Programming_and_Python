{
 "cells": [
  {
   "cell_type": "code",
   "execution_count": 1,
   "metadata": {
    "collapsed": true
   },
   "outputs": [],
   "source": [
    "import re"
   ]
  },
  {
   "cell_type": "code",
   "execution_count": 2,
   "outputs": [
    {
     "name": "stdout",
     "output_type": "stream",
     "text": [
      "Match\n"
     ]
    }
   ],
   "source": [
    "pattern = \"47306\"\n",
    "if re.fullmatch(pattern, \"47306\"):\n",
    "    print(\"Match\")\n",
    "else:\n",
    "    print(\"No Match\")"
   ],
   "metadata": {
    "collapsed": false
   }
  },
  {
   "cell_type": "code",
   "execution_count": 3,
   "outputs": [
    {
     "name": "stdout",
     "output_type": "stream",
     "text": [
      "Match\n"
     ]
    }
   ],
   "source": [
    "pattern = r'\\d{5}'\n",
    "if re.fullmatch(pattern, \"47306\"):\n",
    "    print(\"Match\")\n",
    "else:\n",
    "    print(\"No Match\")"
   ],
   "metadata": {
    "collapsed": false
   }
  },
  {
   "cell_type": "code",
   "execution_count": 5,
   "outputs": [
    {
     "name": "stdout",
     "output_type": "stream",
     "text": [
      "Match\n"
     ]
    }
   ],
   "source": [
    "pattern = '[A-Z][a-z]*'\n",
    "if re.fullmatch(pattern, \"Helloworld\"):\n",
    "    print(\"Match\")\n",
    "else:\n",
    "    print(\"No Match\")"
   ],
   "metadata": {
    "collapsed": false
   }
  },
  {
   "cell_type": "code",
   "execution_count": 6,
   "outputs": [
    {
     "name": "stdout",
     "output_type": "stream",
     "text": [
      "Match\n"
     ]
    }
   ],
   "source": [
    "pattern = '[^a-z]*'\n",
    "if re.fullmatch(pattern, \"HELLO\"):\n",
    "    print(\"Match\")\n",
    "else:\n",
    "    print(\"No Match\")"
   ],
   "metadata": {
    "collapsed": false
   }
  },
  {
   "cell_type": "code",
   "execution_count": 9,
   "outputs": [
    {
     "name": "stdout",
     "output_type": "stream",
     "text": [
      "Match\n"
     ]
    }
   ],
   "source": [
    "pattern = '[A-Z][a-z]+'\n",
    "if re.fullmatch(pattern, \"He\"):\n",
    "    print(\"Match\")\n",
    "else:\n",
    "    print(\"No Match\")"
   ],
   "metadata": {
    "collapsed": false
   }
  },
  {
   "cell_type": "code",
   "execution_count": 12,
   "outputs": [
    {
     "name": "stdout",
     "output_type": "stream",
     "text": [
      "Match\n"
     ]
    }
   ],
   "source": [
    "pattern = 'Hel?loWorld'\n",
    "if re.fullmatch(pattern, \"HeloWorld\"):\n",
    "    print(\"Match\")\n",
    "else:\n",
    "    print(\"No Match\")"
   ],
   "metadata": {
    "collapsed": false
   }
  },
  {
   "cell_type": "code",
   "execution_count": 14,
   "outputs": [
    {
     "name": "stdout",
     "output_type": "stream",
     "text": [
      "Match\n"
     ]
    }
   ],
   "source": [
    "pattern = r'\\d{3,5}'\n",
    "if re.fullmatch(pattern, \"12345\"):\n",
    "    print(\"Match\")\n",
    "else:\n",
    "    print(\"No Match\")"
   ],
   "metadata": {
    "collapsed": false
   }
  },
  {
   "cell_type": "code",
   "execution_count": null,
   "outputs": [],
   "source": [],
   "metadata": {
    "collapsed": false
   }
  }
 ],
 "metadata": {
  "kernelspec": {
   "display_name": "Python 3",
   "language": "python",
   "name": "python3"
  },
  "language_info": {
   "codemirror_mode": {
    "name": "ipython",
    "version": 2
   },
   "file_extension": ".py",
   "mimetype": "text/x-python",
   "name": "python",
   "nbconvert_exporter": "python",
   "pygments_lexer": "ipython2",
   "version": "2.7.6"
  }
 },
 "nbformat": 4,
 "nbformat_minor": 0
}
