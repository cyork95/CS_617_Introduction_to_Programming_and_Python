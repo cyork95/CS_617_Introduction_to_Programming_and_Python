{
 "cells": [
  {
   "cell_type": "code",
   "execution_count": 1,
   "outputs": [],
   "source": [
    "import pandas as pd"
   ],
   "metadata": {
    "collapsed": false
   }
  },
  {
   "cell_type": "code",
   "execution_count": 2,
   "outputs": [
    {
     "name": "stdout",
     "output_type": "stream",
     "text": [
      "{'Alice': [92, 100, 89], 'Bob': [80, 91, 72], 'Carol': [57, 70, 100]}\n",
      "   Alice  Bob  Carol\n",
      "0     92   80     57\n",
      "1    100   91     70\n",
      "2     89   72    100\n"
     ]
    }
   ],
   "source": [
    "scoresDictionary = {\"Alice\": [92, 100, 89], \"Bob\": [80, 91, 72], \"Carol\": [57, 70, 100]}\n",
    "print(scoresDictionary)\n",
    "scores = pd.DataFrame(scoresDictionary)\n",
    "print(scores)"
   ],
   "metadata": {
    "collapsed": false
   }
  },
  {
   "cell_type": "code",
   "execution_count": 3,
   "metadata": {
    "collapsed": true
   },
   "outputs": [
    {
     "name": "stdout",
     "output_type": "stream",
     "text": [
      "            Alice  Bob  Carol\n",
      "Quiz           92   80     57\n",
      "Assignment    100   91     70\n",
      "Exam           89   72    100\n"
     ]
    }
   ],
   "source": [
    "scores1 = pd.DataFrame(scoresDictionary, index=['Quiz', 'Assignment', 'Exam'])\n",
    "print(scores1)"
   ]
  },
  {
   "cell_type": "code",
   "execution_count": 4,
   "outputs": [
    {
     "name": "stdout",
     "output_type": "stream",
     "text": [
      "Quiz           92\n",
      "Assignment    100\n",
      "Exam           89\n",
      "Name: Alice, dtype: int64\n"
     ]
    }
   ],
   "source": [
    "print(scores1.Alice)"
   ],
   "metadata": {
    "collapsed": false
   }
  },
  {
   "cell_type": "code",
   "execution_count": 5,
   "outputs": [
    {
     "name": "stdout",
     "output_type": "stream",
     "text": [
      "Alice    92\n",
      "Bob      80\n",
      "Carol    57\n",
      "Name: Quiz, dtype: int64\n"
     ]
    }
   ],
   "source": [
    "print(scores1.loc['Quiz'])"
   ],
   "metadata": {
    "collapsed": false
   }
  },
  {
   "cell_type": "code",
   "execution_count": 6,
   "outputs": [
    {
     "name": "stdout",
     "output_type": "stream",
     "text": [
      "Alice    92\n",
      "Bob      80\n",
      "Carol    57\n",
      "Name: Quiz, dtype: int64\n"
     ]
    }
   ],
   "source": [
    "#index location\n",
    "print(scores1.iloc[0])"
   ],
   "metadata": {
    "collapsed": false
   }
  },
  {
   "cell_type": "code",
   "execution_count": 10,
   "outputs": [
    {
     "name": "stdout",
     "output_type": "stream",
     "text": [
      "            Alice  Bob  Carol\n",
      "Quiz           92   80     57\n",
      "Assignment    100   91     70\n"
     ]
    }
   ],
   "source": [
    "print(scores1.loc['Quiz':'Assignment'])"
   ],
   "metadata": {
    "collapsed": false
   }
  },
  {
   "cell_type": "code",
   "execution_count": 8,
   "outputs": [
    {
     "name": "stdout",
     "output_type": "stream",
     "text": [
      "      Alice  Bob  Carol\n",
      "Quiz     92   80     57\n",
      "Exam     89   72    100\n"
     ]
    }
   ],
   "source": [
    "print(scores1.loc[['Quiz','Exam']])"
   ],
   "metadata": {
    "collapsed": false
   }
  },
  {
   "cell_type": "code",
   "execution_count": 9,
   "outputs": [
    {
     "name": "stdout",
     "output_type": "stream",
     "text": [
      "            Alice  Carol\n",
      "Quiz           92     57\n",
      "Assignment    100     70\n",
      "Exam           89    100\n"
     ]
    }
   ],
   "source": [
    "print(scores1.loc['Quiz':'Exam', ['Alice', 'Carol']])"
   ],
   "metadata": {
    "collapsed": false
   }
  },
  {
   "cell_type": "code",
   "execution_count": 11,
   "outputs": [
    {
     "name": "stdout",
     "output_type": "stream",
     "text": [
      "            Alice  Bob  Carol\n",
      "Quiz           92   80    NaN\n",
      "Assignment    100   91    NaN\n",
      "Exam           89   72  100.0\n"
     ]
    }
   ],
   "source": [
    "print(scores1[scores1 > 70])"
   ],
   "metadata": {
    "collapsed": false
   }
  },
  {
   "cell_type": "code",
   "execution_count": 12,
   "outputs": [
    {
     "name": "stdout",
     "output_type": "stream",
     "text": [
      "            Alice   Bob  Carol\n",
      "Quiz          NaN  80.0    NaN\n",
      "Assignment    NaN   NaN    NaN\n",
      "Exam          NaN  72.0    NaN\n"
     ]
    }
   ],
   "source": [
    "print(scores1[(scores1 > 70) & (scores1 <= 80)])"
   ],
   "metadata": {
    "collapsed": false
   }
  },
  {
   "cell_type": "code",
   "execution_count": 13,
   "outputs": [
    {
     "name": "stdout",
     "output_type": "stream",
     "text": [
      "57\n",
      "57\n",
      "62\n"
     ]
    }
   ],
   "source": [
    "print(scores1.at['Quiz', 'Carol'])\n",
    "print(scores1.iat[0, 2])\n",
    "scores1.at['Quiz', 'Carol'] = 62\n",
    "print(scores1.iat[0, 2])"
   ],
   "metadata": {
    "collapsed": false
   }
  },
  {
   "cell_type": "code",
   "execution_count": 14,
   "outputs": [
    {
     "name": "stdout",
     "output_type": "stream",
     "text": [
      "            Alice        Bob       Carol\n",
      "count    3.000000   3.000000    3.000000\n",
      "mean    93.666667  81.000000   77.333333\n",
      "std      5.686241   9.539392   20.033306\n",
      "min     89.000000  72.000000   62.000000\n",
      "25%     90.500000  76.000000   66.000000\n",
      "50%     92.000000  80.000000   70.000000\n",
      "75%     96.000000  85.500000   85.000000\n",
      "max    100.000000  91.000000  100.000000\n"
     ]
    }
   ],
   "source": [
    "print(scores1.describe())"
   ],
   "metadata": {
    "collapsed": false
   }
  },
  {
   "cell_type": "code",
   "execution_count": 15,
   "outputs": [
    {
     "name": "stdout",
     "output_type": "stream",
     "text": [
      "Alice    93.666667\n",
      "Bob      81.000000\n",
      "Carol    77.333333\n",
      "dtype: float64\n"
     ]
    }
   ],
   "source": [
    "print(scores1.mean())"
   ],
   "metadata": {
    "collapsed": false
   }
  },
  {
   "cell_type": "code",
   "execution_count": 16,
   "outputs": [
    {
     "name": "stdout",
     "output_type": "stream",
     "text": [
      "Quiz          78.0\n",
      "Assignment    87.0\n",
      "Exam          87.0\n",
      "dtype: float64\n"
     ]
    }
   ],
   "source": [
    "print(scores1.T.mean())"
   ],
   "metadata": {
    "collapsed": false
   }
  },
  {
   "cell_type": "code",
   "execution_count": 17,
   "outputs": [
    {
     "name": "stdout",
     "output_type": "stream",
     "text": [
      "            Quiz  Assignment        Exam\n",
      "count   3.000000    3.000000    3.000000\n",
      "mean   78.000000   87.000000   87.000000\n",
      "std    15.099669   15.394804   14.106736\n",
      "min    62.000000   70.000000   72.000000\n",
      "25%    71.000000   80.500000   80.500000\n",
      "50%    80.000000   91.000000   89.000000\n",
      "75%    86.000000   95.500000   94.500000\n",
      "max    92.000000  100.000000  100.000000\n"
     ]
    }
   ],
   "source": [
    "print(scores1.T.describe())"
   ],
   "metadata": {
    "collapsed": false
   }
  },
  {
   "cell_type": "code",
   "execution_count": 20,
   "outputs": [
    {
     "name": "stdout",
     "output_type": "stream",
     "text": [
      "            Alice  Bob  Carol\n",
      "Quiz           92   80     62\n",
      "Assignment    100   91     70\n",
      "Exam           89   72    100\n",
      "            Alice  Bob  Carol\n",
      "Assignment    100   91     70\n",
      "Exam           89   72    100\n",
      "Quiz           92   80     62\n"
     ]
    }
   ],
   "source": [
    "print(scores1)\n",
    "print(scores1.sort_index())"
   ],
   "metadata": {
    "collapsed": false
   }
  },
  {
   "cell_type": "code",
   "execution_count": 21,
   "outputs": [
    {
     "name": "stdout",
     "output_type": "stream",
     "text": [
      "            Alice  Bob  Carol\n",
      "Quiz           92   80     62\n",
      "Assignment    100   91     70\n",
      "Exam           89   72    100\n",
      "            Carol  Bob  Alice\n",
      "Quiz           62   80     92\n",
      "Assignment     70   91    100\n",
      "Exam          100   72     89\n"
     ]
    }
   ],
   "source": [
    "print(scores1)\n",
    "print(scores1.sort_index(axis=1, ascending=False))"
   ],
   "metadata": {
    "collapsed": false
   }
  },
  {
   "cell_type": "code",
   "execution_count": 22,
   "outputs": [
    {
     "name": "stdout",
     "output_type": "stream",
     "text": [
      "            Carol  Alice  Bob\n",
      "Quiz           62     92   80\n",
      "Assignment     70    100   91\n",
      "Exam          100     89   72\n"
     ]
    }
   ],
   "source": [
    "print(scores1.sort_values(by='Exam', axis=1, ascending=False))"
   ],
   "metadata": {
    "collapsed": false
   }
  },
  {
   "cell_type": "code",
   "execution_count": null,
   "outputs": [],
   "source": [],
   "metadata": {
    "collapsed": false
   }
  }
 ],
 "metadata": {
  "kernelspec": {
   "display_name": "Python 3",
   "language": "python",
   "name": "python3"
  },
  "language_info": {
   "codemirror_mode": {
    "name": "ipython",
    "version": 2
   },
   "file_extension": ".py",
   "mimetype": "text/x-python",
   "name": "python",
   "nbconvert_exporter": "python",
   "pygments_lexer": "ipython2",
   "version": "2.7.6"
  }
 },
 "nbformat": 4,
 "nbformat_minor": 0
}
