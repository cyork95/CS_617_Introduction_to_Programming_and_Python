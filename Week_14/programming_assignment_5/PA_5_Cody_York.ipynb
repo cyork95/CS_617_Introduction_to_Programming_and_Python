{
 "cells": [
  {
   "cell_type": "code",
   "execution_count": 1,
   "metadata": {
    "collapsed": true
   },
   "outputs": [
    {
     "name": "stdout",
     "output_type": "stream",
     "text": [
      "{'001023456': ['Smith', 'Alice', 'Chemistry', 3.7], '001027529': ['Jones', 'Bob', 'Mathematics', 2.8]}\n"
     ]
    }
   ],
   "source": [
    "try:\n",
    "    student_info = open(\"students.txt\", mode='r')\n",
    "    students = student_info.readlines()\n",
    "    student_dictionary = {}\n",
    "    for s in students:\n",
    "        parts = s.split(',')\n",
    "        student_id = parts[0]\n",
    "        last_name = parts[1]\n",
    "        first_name = parts[2]\n",
    "        major = parts[3]\n",
    "        gpa = float(parts[4])\n",
    "        student_dictionary[student_id] = [last_name, first_name, major, gpa]\n",
    "    print(student_dictionary)\n",
    "except ValueError:\n",
    "    print(\"GPA Must be a number!\")"
   ]
  },
  {
   "cell_type": "code",
   "execution_count": 7,
   "outputs": [
    {
     "name": "stdout",
     "output_type": "stream",
     "text": [
      "Here is the information on the gpa '3.0'!\n",
      "\tStudent ID: 001023456\n",
      "\tLast Name: Smith\n",
      "\tFirst Name: Alice\n",
      "\tMajor: Chemistry\n",
      "\tGPA: 3.7\n",
      "Here is the information on the gpa '3.1'!\n",
      "\tStudent ID: 001023456\n",
      "\tLast Name: Smith\n",
      "\tFirst Name: Alice\n",
      "\tMajor: Chemistry\n",
      "\tGPA: 3.7\n",
      "Thank you, goodbye!\n"
     ]
    }
   ],
   "source": [
    "while True:\n",
    "    try:\n",
    "        choice = int(input(\"Choose an option: \\n \\t1) Search by last name \\n \\t2) Search by Major \\n \\t3) Search by GPA \\n \\t4) Quit\"))\n",
    "        if choice == 1:\n",
    "            last_name = input(\"Please respond with a last name to look for: \\t\")\n",
    "            # noinspection PyUnboundLocalVariable\n",
    "            for key, value in student_dictionary.items():\n",
    "                if value[0].lower() == last_name.lower():\n",
    "                    print(f\"Here is the information on the last name '{last_name}'!\\n\\tStudent ID: {key}\\n\\tLast Name: {value[0]}\\n\\tFirst Name: {value[1]}\\n\\tMajor: {value[2]}\\n\\tGPA: {value[3]}\")\n",
    "        elif choice == 2:\n",
    "            major = input(\"Please respond with a Major to look for: \\t\")\n",
    "            for key, value in student_dictionary.items():\n",
    "                if value[2].lower() == major.lower():\n",
    "                    print(f\"Here is the information on the major '{major}'!\\n\\tStudent ID: {key}\\n\\tLast Name: {value[0]}\\n\\tFirst Name: {value[1]}\\n\\tMajor: {value[2]}\\n\\tGPA: {value[3]}\")\n",
    "        elif choice == 3:\n",
    "            gpa = float(input(\"Please enter a GPA to find the students with equal or greater scores: \\t\"))\n",
    "            for key, value in student_dictionary.items():\n",
    "                if float(value[3]) >= gpa:\n",
    "                    print(f\"Here is the information on the gpa '{gpa}'!\\n\\tStudent ID: {key}\\n\\tLast Name: {value[0]}\\n\\tFirst Name: {value[1]}\\n\\tMajor: {value[2]}\\n\\tGPA: {value[3]}\")\n",
    "        elif choice == 4:\n",
    "            print(\"Thank you, goodbye!\")\n",
    "            break\n",
    "        else:\n",
    "            print(\"I did not get that. Please enter a number! Remember enter 4 to stop!\")\n",
    "            continue\n",
    "    except ValueError:\n",
    "        print(\"I did not get that. Please enter a number! Remember enter 4 to stop!\")\n",
    "        continue"
   ],
   "metadata": {
    "collapsed": false
   }
  },
  {
   "cell_type": "code",
   "execution_count": null,
   "outputs": [],
   "source": [],
   "metadata": {
    "collapsed": false
   }
  }
 ],
 "metadata": {
  "kernelspec": {
   "display_name": "Python 3",
   "language": "python",
   "name": "python3"
  },
  "language_info": {
   "codemirror_mode": {
    "name": "ipython",
    "version": 2
   },
   "file_extension": ".py",
   "mimetype": "text/x-python",
   "name": "python",
   "nbconvert_exporter": "python",
   "pygments_lexer": "ipython2",
   "version": "2.7.6"
  }
 },
 "nbformat": 4,
 "nbformat_minor": 0
}
